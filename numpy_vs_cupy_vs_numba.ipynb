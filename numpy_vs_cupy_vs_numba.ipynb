{
  "nbformat": 4,
  "nbformat_minor": 0,
  "metadata": {
    "colab": {
      "name": "Copy of numpy vs cupy vs numba.ipynb",
      "provenance": [],
      "collapsed_sections": []
    },
    "kernelspec": {
      "name": "python3",
      "display_name": "Python 3"
    },
    "language_info": {
      "name": "python"
    },
    "accelerator": "GPU"
  },
  "cells": [
    {
      "cell_type": "code",
      "execution_count": null,
      "metadata": {
        "id": "nHf9GUg28s0Y"
      },
      "outputs": [],
      "source": [
        "import numba\n",
        "import cupy as cp\n",
        "import numpy as np\n",
        "from random import randint"
      ]
    },
    {
      "cell_type": "code",
      "source": [
        "# define a random input array on the GPU\n",
        "a_py = [randint(1,100) for i in range(2000)]\n",
        "a_np = np.random.randint(1,100, 2000)\n",
        "a_cp = cp.asarray(a_np)\n",
        "a_cuda = numba.cuda.to_device(a_np)"
      ],
      "metadata": {
        "id": "vkgclkRi9Atu"
      },
      "execution_count": null,
      "outputs": []
    },
    {
      "cell_type": "code",
      "source": [
        "## PURE PYTHON IMPLEMENTATION"
      ],
      "metadata": {
        "id": "GKbb8vwWYPsD"
      },
      "execution_count": null,
      "outputs": []
    },
    {
      "cell_type": "code",
      "source": [
        "def double_all_elements_pure(py_list):\n",
        "  for i in range(len(py_list)):\n",
        "    py_list[i] *= 2\n",
        "\n",
        "  return py_list\n"
      ],
      "metadata": {
        "id": "nv2UPFJ2V-ev"
      },
      "execution_count": null,
      "outputs": []
    },
    {
      "cell_type": "code",
      "source": [
        "%timeit double_all_elements_pure(a_py)"
      ],
      "metadata": {
        "colab": {
          "base_uri": "https://localhost:8080/"
        },
        "id": "JRgEYEZoXKH0",
        "outputId": "6406a88f-62dc-43a7-9fab-54b25ccd5116"
      },
      "execution_count": null,
      "outputs": [
        {
          "output_type": "stream",
          "name": "stdout",
          "text": [
            "1000 loops, best of 5: 342 µs per loop\n"
          ]
        }
      ]
    },
    {
      "cell_type": "code",
      "source": [
        "# NUMPY IMPLEMENTATION(s)"
      ],
      "metadata": {
        "id": "GxDioFX4YC7j"
      },
      "execution_count": null,
      "outputs": []
    },
    {
      "cell_type": "code",
      "source": [
        "def double_all_elements_np(np_arr):\n",
        "  return np_arr * 2"
      ],
      "metadata": {
        "id": "2qQ1loIYYVFX"
      },
      "execution_count": null,
      "outputs": []
    },
    {
      "cell_type": "code",
      "source": [
        "%timeit double_all_elements_np(a_np)"
      ],
      "metadata": {
        "colab": {
          "base_uri": "https://localhost:8080/"
        },
        "id": "yzMRldwZYceu",
        "outputId": "fc436740-009b-446a-d039-fb94560b858f"
      },
      "execution_count": null,
      "outputs": [
        {
          "output_type": "stream",
          "name": "stdout",
          "text": [
            "The slowest run took 47.07 times longer than the fastest. This could mean that an intermediate result is being cached.\n",
            "1000000 loops, best of 5: 1.77 µs per loop\n"
          ]
        }
      ]
    },
    {
      "cell_type": "code",
      "source": [
        "@np.vectorize\n",
        "def double_element_np(element):\n",
        "  return element * 2"
      ],
      "metadata": {
        "id": "M-hCYmS-Yfbg"
      },
      "execution_count": null,
      "outputs": []
    },
    {
      "cell_type": "code",
      "source": [
        "%timeit double_element_np(a_np)"
      ],
      "metadata": {
        "colab": {
          "base_uri": "https://localhost:8080/"
        },
        "id": "uF8l1DknY4fc",
        "outputId": "1444a5d5-e17c-42e4-c94c-926699384431"
      },
      "execution_count": null,
      "outputs": [
        {
          "output_type": "stream",
          "name": "stdout",
          "text": [
            "1000 loops, best of 5: 262 µs per loop\n"
          ]
        }
      ]
    },
    {
      "cell_type": "code",
      "source": [
        "# CUPY IMPLEMENTATION(s)"
      ],
      "metadata": {
        "id": "y7ajy4ZAY9dv"
      },
      "execution_count": null,
      "outputs": []
    },
    {
      "cell_type": "code",
      "source": [
        "def double_all_elements_cp(cp_arr):\n",
        "  return cp_arr * 2"
      ],
      "metadata": {
        "id": "gjAdXqzWaieo"
      },
      "execution_count": null,
      "outputs": []
    },
    {
      "cell_type": "code",
      "source": [
        "%timeit double_all_elements_cp(a_cp)"
      ],
      "metadata": {
        "colab": {
          "base_uri": "https://localhost:8080/"
        },
        "id": "t8GV0G-TamHD",
        "outputId": "ed53e7ff-6f39-49db-ba51-fc47e2a306df"
      },
      "execution_count": null,
      "outputs": [
        {
          "output_type": "stream",
          "name": "stdout",
          "text": [
            "The slowest run took 11.66 times longer than the fastest. This could mean that an intermediate result is being cached.\n",
            "10000 loops, best of 5: 20.9 µs per loop\n"
          ]
        }
      ]
    },
    {
      "cell_type": "code",
      "source": [
        "@cp.vectorize\n",
        "def double_element_cp(element):\n",
        "  return element * 2"
      ],
      "metadata": {
        "id": "qATP2YDuaqTg"
      },
      "execution_count": null,
      "outputs": []
    },
    {
      "cell_type": "code",
      "source": [
        "%timeit double_element_cp(a_cp)"
      ],
      "metadata": {
        "colab": {
          "base_uri": "https://localhost:8080/"
        },
        "id": "FJez_wUFa68e",
        "outputId": "4775084e-2fb9-455b-a917-e6be9181811b"
      },
      "execution_count": null,
      "outputs": [
        {
          "output_type": "stream",
          "name": "stdout",
          "text": [
            "The slowest run took 136.11 times longer than the fastest. This could mean that an intermediate result is being cached.\n",
            "100000 loops, best of 5: 9.88 µs per loop\n"
          ]
        }
      ]
    },
    {
      "cell_type": "code",
      "source": [
        "# NUMBA IMPLEMENTATION(s)"
      ],
      "metadata": {
        "id": "-67yA8-He6Gk"
      },
      "execution_count": null,
      "outputs": []
    },
    {
      "cell_type": "code",
      "source": [
        "@numba.cuda.jit\n",
        "def double_all_elements_cuda(cuda_arr):\n",
        "    pos = numba.cuda.grid(1)\n",
        "    if pos < cuda_arr.size:\n",
        "        cuda_arr[pos] *= 2"
      ],
      "metadata": {
        "id": "ewUStus_a-QC"
      },
      "execution_count": null,
      "outputs": []
    },
    {
      "cell_type": "code",
      "source": [
        "threadsperblock = 32\n",
        "blockspergrid = np.ceil(a_cuda.shape[0] / threadsperblock).astype(int)\n",
        "\n",
        "%timeit double_all_elements_cuda[blockspergrid, threadsperblock](a_cuda)"
      ],
      "metadata": {
        "colab": {
          "base_uri": "https://localhost:8080/"
        },
        "id": "MF87pZVadA-L",
        "outputId": "ce563d6e-86e0-47f8-f6f8-5d32ec09ff6c"
      },
      "execution_count": null,
      "outputs": [
        {
          "output_type": "stream",
          "name": "stdout",
          "text": [
            "The slowest run took 6.38 times longer than the fastest. This could mean that an intermediate result is being cached.\n",
            "10000 loops, best of 5: 98.4 µs per loop\n"
          ]
        }
      ]
    },
    {
      "cell_type": "code",
      "source": [
        "@numba.cuda.jit\n",
        "def double_all_elements_cuda(cuda_arr):\n",
        "    start = numba.cuda.grid(1)\n",
        "    stride = numba.cuda.gridsize(1)\n",
        "    \n",
        "    for i in range(start, cuda_arr.size,stride):\n",
        "      if i < cuda_arr.size:\n",
        "          cuda_arr[i] *= 2"
      ],
      "metadata": {
        "id": "5LoU821khMX-"
      },
      "execution_count": null,
      "outputs": []
    },
    {
      "cell_type": "code",
      "source": [
        "%timeit double_all_elements_cuda[blockspergrid, threadsperblock](a_cuda)"
      ],
      "metadata": {
        "colab": {
          "base_uri": "https://localhost:8080/"
        },
        "id": "8MUl0jabjQAm",
        "outputId": "6b648ce9-37f5-4776-d897-d31cdc6c3259"
      },
      "execution_count": null,
      "outputs": [
        {
          "output_type": "stream",
          "name": "stdout",
          "text": [
            "The slowest run took 1576.09 times longer than the fastest. This could mean that an intermediate result is being cached.\n",
            "10000 loops, best of 5: 101 µs per loop\n"
          ]
        }
      ]
    },
    {
      "cell_type": "code",
      "source": [
        "# much longer compilation time, but the same speed afterwards.... not a good tradeoff"
      ],
      "metadata": {
        "id": "zDTt4yjfjwFC"
      },
      "execution_count": null,
      "outputs": []
    },
    {
      "cell_type": "code",
      "source": [
        "@numba.vectorize(['int64(int64)'], target='cuda')\n",
        "def double_element_cuda(element):\n",
        "  return element * 2"
      ],
      "metadata": {
        "id": "fAscRZ9gdEQ_"
      },
      "execution_count": null,
      "outputs": []
    },
    {
      "cell_type": "code",
      "source": [
        "%timeit double_element_cuda(a_cuda)"
      ],
      "metadata": {
        "colab": {
          "base_uri": "https://localhost:8080/"
        },
        "id": "pwf2m3cefO8H",
        "outputId": "5192dea1-6f00-4e4e-c1fe-fb895f076ba4"
      },
      "execution_count": null,
      "outputs": [
        {
          "output_type": "stream",
          "name": "stdout",
          "text": [
            "1000 loops, best of 5: 525 µs per loop\n"
          ]
        }
      ]
    },
    {
      "cell_type": "code",
      "source": [
        "\n",
        "\n",
        "\n"
      ],
      "metadata": {
        "id": "49i6gJi0g7OV"
      },
      "execution_count": null,
      "outputs": []
    },
    {
      "cell_type": "code",
      "source": [
        "# food for thought - when running on cpu and on the numpy array, it performs\n",
        "# much better...\n",
        "@numba.vectorize(['int64(int64)'], target='cpu')\n",
        "def double_element_cuda(element):\n",
        "  return element * 2\n",
        "\n",
        "%timeit double_element_cuda(a_np)"
      ],
      "metadata": {
        "colab": {
          "base_uri": "https://localhost:8080/"
        },
        "id": "kdH43SikgJTd",
        "outputId": "6ffecb54-d500-4e20-df8d-3b00b4f47ee1"
      },
      "execution_count": null,
      "outputs": [
        {
          "output_type": "stream",
          "name": "stdout",
          "text": [
            "The slowest run took 24.07 times longer than the fastest. This could mean that an intermediate result is being cached.\n",
            "1000000 loops, best of 5: 878 ns per loop\n"
          ]
        }
      ]
    },
    {
      "cell_type": "code",
      "source": [
        "# numba running on cpu on np array proves to be the fastest one for this specific task (800-900 nanoseconds)\n",
        "# followed by a simple numpy implementation (1.8 microsecond)\n",
        "# with cupy's vectorized function being third (10 microseconds)"
      ],
      "metadata": {
        "id": "yfYEsYI_jTNI"
      },
      "execution_count": null,
      "outputs": []
    },
    {
      "cell_type": "code",
      "source": [
        ""
      ],
      "metadata": {
        "id": "Kj1ER_OYk5E1"
      },
      "execution_count": null,
      "outputs": []
    }
  ]
}